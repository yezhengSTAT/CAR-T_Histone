{
 "cells": [
  {
   "cell_type": "code",
   "execution_count": null,
   "metadata": {
    "vscode": {
     "languageId": "r"
    }
   },
   "outputs": [],
   "source": [
    "library(GenomicRanges)\n",
    "library(dplyr)\n",
    "library(data.table)\n",
    "library(ggplot2)\n",
    "library(viridis)\n",
    "library(readxl)\n",
    "library(pheatmap)\n",
    "library(RColorBrewer)\n",
    "library(tidyr)\n",
    "library(gridExtra)\n",
    "library(corrplot)\n",
    "library(tibble)\n",
    "library(ggrepel)\n",
    "library(ggpubr)\n",
    "# library(DESeq2)\n",
    "library(DEFormats)\n",
    "library(BiocParallel)\n",
    "register(MulticoreParam(4))\n",
    "library(chromVAR)\n",
    "## library(motifmatchr) ##not used by far\n",
    "library(GenomicFeatures)\n",
    "library(BSgenome.Hsapiens.UCSC.hg38)\n",
    "library(ChIPseeker)\n",
    "library(TxDb.Hsapiens.UCSC.hg38.knownGene)\n",
    "library(org.Hs.eg.db)\n",
    "library(pheatmap)\n",
    "library(RColorBrewer)\n",
    "library(tidyr)\n",
    "library(gridExtra)\n",
    "library(ggrepel)\n",
    "library(limma)\n",
    "library(ggdendro)\n",
    "library(ggfortify)\n",
    "library(ggpubr)\n",
    "library(magrittr)\n",
    "library(Seurat)"
   ]
  },
  {
   "cell_type": "code",
   "execution_count": null,
   "metadata": {
    "vscode": {
     "languageId": "r"
    }
   },
   "outputs": [],
   "source": [
    "## Patient data infusion product of CM-derived cells \n",
    "patientRaw = read_xlsx(\"CART_CUTRUN_Project/report/CART_CUTRUN/analysis/20201028_NHL_CUTandRUN_PatientData.xlsx\")\n",
    "cm_ind = which(patientRaw$`CD8+ T cell isolation` == \"CD8TCM\")\n",
    "patient_id_list = patientRaw$Xnumber[cm_ind] %>% tolower\n"
   ]
  },
  {
   "cell_type": "code",
   "execution_count": null,
   "metadata": {
    "vscode": {
     "languageId": "r"
    }
   },
   "outputs": [],
   "source": [
    "## Patient data infusion product of CM-derived cells \n",
    "inPath = \"CART_CUTRUN_Project/results/RNAseq/process/NHL_RSEM_gencode_v21/\"\n",
    "\n",
    "pt_expCount = c()\n",
    "pt_name_tmp_list = c()\n",
    "for(sample in paste0(\"Sample_\", patient_id_list, \"_IP_CD8-CAR\")){\n",
    "  if(file.exists(paste0(inPath, sample, \"/RSEM.genes.results\"))){\n",
    "    print(sample)\n",
    "    tmp = fread(paste0(inPath, sample, \"/RSEM.genes.results\")) %>% dplyr::select(expected_count)\n",
    "    pt_expCount = cbind(pt_expCount, round(tmp))\n",
    "    pt_name_tmp_list = c(pt_name_tmp_list, sample)\n",
    "  }\n",
    "}\n",
    "pt_expCount = data.frame(pt_expCount)\n",
    "colnames(pt_expCount) = paste0(pt_name_tmp_list, \"_PT\") #paste0(patient_id_list, \"_PT\")\n",
    "\n",
    "geneID = fread(paste0(inPath, sample, \"/RSEM.genes.results\"))$gene_id\n",
    "pt_expCount$gene_name = geneID\n"
   ]
  },
  {
   "cell_type": "code",
   "execution_count": null,
   "metadata": {
    "vscode": {
     "languageId": "r"
    }
   },
   "outputs": [],
   "source": [
    "## healthy donor data\n",
    "## Read in RNA-seq data\n",
    "cellList <- \"CM\" #c(\"N\", \"CM\", \"EM\", \"EMRA\")\n",
    "hdList <- paste0(\"HD\", c(1:3, 5:7))\n",
    "exprList = \"Product\" #c(\"Input\", \"Product\", \"Stim1\", \"Stim2\", \"Stim3\")\n",
    "\n",
    "inPath <- \"CART_CUTRUN_Project/results/RNAseq/process/HD_RSEM_gencode_v21/\" #\"CART_CUTRUN_Project/results/RNAseq/process/RSEM/\"\n",
    "\n",
    "hd_expCount = c()\n",
    "for(cell in cellList){\n",
    "  for(expr in exprList){\n",
    "    for(hd in hdList){\n",
    "      # print(paste(expr, cell, hd, sep = \"_\"))\n",
    "      sample = paste0(\"RNA_CD8_\", cell, \"_\", expr, \"_\", hd)\n",
    "      if(file.exists(paste0(inPath, sample, \"/RSEM.genes.results\"))){\n",
    "        print(sample)\n",
    "        dataTmp = fread(paste0(inPath, sample, \"/RSEM.genes.results\")) %>% dplyr::select(expected_count)\n",
    "        # dataTmp <- fread(paste0(inPath, \"RNA_CD8_\", cell, \"_\", expr, \"_\", hd, \".genes.results\")) %>% dplyr::select(expected_count)\n",
    "        hd_expCount <- cbind(hd_expCount, round(dataTmp))\n",
    "      }\n",
    "\n",
    "    }\n",
    "  }\n",
    "\n",
    "}\n",
    "hd_expCount = data.frame(hd_expCount)\n",
    "colnames(hd_expCount) <- paste(rep(rep(exprList, each = length(hdList)), length(cellList)), rep(cellList, each = length(hdList)*length(exprList)), rep(hdList, length(exprList)*length(cellList)), sep = \"_\")\n",
    "\n",
    "geneID = fread(paste0(inPath, sample, \"/RSEM.genes.results\"))$gene_id\n",
    "hd_expCount$gene_name <- geneID\n",
    "\n"
   ]
  },
  {
   "cell_type": "code",
   "execution_count": null,
   "metadata": {
    "vscode": {
     "languageId": "r"
    }
   },
   "outputs": [],
   "source": [
    "groupList = c(\"PT\", \"HD\")\n",
    "target = data.frame(\n",
    "    group = c(\n",
    "        rep(\"PT\", ncol(pt_expCount) - 1), \n",
    "        rep(\"HD\", ncol(hd_expCount) - 1)\n",
    "    )\n",
    ")\n",
    "\n",
    "target$group = factor(target$group, levels = groupList)\n",
    "\n",
    "## Experimental design\n",
    "treat <- factor(target$group)\n",
    "design <- model.matrix(~0 + treat)\n",
    "colnames(design) <- levels(treat)\n",
    "contrast <- makeContrasts(PT_HD = PT - HD, levels = design)\n"
   ]
  },
  {
   "cell_type": "code",
   "execution_count": null,
   "metadata": {
    "vscode": {
     "languageId": "r"
    }
   },
   "outputs": [],
   "source": [
    "## Filter and delete low expressed genes\n",
    "outPath <- \"CART_CUTRUN_Project/results/RNAseq/analysis/RSEM/\"\n",
    "\n",
    "selectR = which(rowSums(countMat) > 10) ## remove low count genes\n",
    "dataS = countMat[selectR, ]\n",
    "voomDDS = voom(counts = dataS, design = design, normalize.method = \"cyclicloess\", plot = FALSE)\n",
    "## option 1 using voomDDS option2 using normDDS as normalized input.\n",
    "inputDDS = voomDDS\n",
    "## corfit$consensus\n",
    "fit = lmFit(inputDDS, design)\n",
    "fitContrast = contrasts.fit(fit, contrast)\n",
    "fitBayes = eBayes(fitContrast, robust = TRUE)\n",
    "\n",
    "ncol(contrast)\n",
    "i = 1\n",
    "# for(i in 1:ncol(contrast)){\n",
    "## Results\n",
    "res = topTable(fit = fitBayes, adjust.method = 'fdr', coef = i, number = nrow(inputDDS), sort = 'P') \n",
    "res = data.table(GeneName = rownames(res), res)\n",
    "res[, Significance := ifelse((adj.P.Val <= 0.1 & sign(logFC) == 1 & abs(logFC) >= 1), 'Up', ifelse((adj.P.Val <= 0.1 & sign(logFC) == -1 & abs(logFC) >= 1), 'Down', 'notDE'))]\n",
    "results = left_join(res, dataS %>% data.frame %>% dplyr::mutate(GeneName = rownames(dataS)), by = \"GeneName\")\n",
    "## Output\n",
    "write.table(results, file = paste0(outPath, '/RNA_limma_tables/RNA-seq_DE_cmPatient_vs_cmHealthyDonor_InfusionProduct_adj0.1_logFC2.csv'), quote = FALSE, row.names = FALSE, sep = \",\")\n",
    "\n",
    "save(results, voomDDS, file = paste0(outPath, \"/RData/results_RNA-seq_DE_cmPatient_vs_cmHealthyDonor_InfusionProduct.RData\"))\n",
    "# load(file = paste0(outPath, \"/RData/results_RNA-seq_DE_cmPatient_vs_cmHealthyDonor_InfusionProduct.RData\"))\n",
    "\n"
   ]
  },
  {
   "cell_type": "code",
   "execution_count": null,
   "metadata": {
    "vscode": {
     "languageId": "r"
    }
   },
   "outputs": [],
   "source": [
    "options(repr.plot.width=7, repr.plot.height=6)\n",
    "selectR = which(rowSums(countMat) > 10) ## remove low count genes\n",
    "\n",
    "\n",
    "rna_obj = CreateSeuratObject(counts = countMat[selectR, ], project = \"cart\", min.cells = 0, min.features = 10) %>%  \n",
    "NormalizeData(., normalization.method = \"LogNormalize\", scale.factor = 1000000) %>% \n",
    "FindVariableFeatures(., selection.method = \"vst\", nfeatures = length(selectR)) %>%  # length(selectR)\n",
    "ScaleData()\n",
    "\n",
    "rna_obj = RunPCA(rna_obj, features = VariableFeatures(object = rna_obj), npcs = 10)\n",
    "rna_plot = Embeddings(rna_obj, reduction = \"pca\")[, 1:2] %>% data.frame %>% mutate(group = c(rep(\"PT\", ncol(pt_expCount) - 1), rep(\"HD\", ncol(hd_expCount) - 1))) %>% \n",
    "ggplot(aes(x = PC_1, y = PC_2, color = group)) +\n",
    "geom_point() +\n",
    "theme_bw(base_size = 20) +\n",
    "scale_color_viridis(discrete = TRUE, begin = 0.2, end = 0.8, option = \"magma\") +\n",
    "xlab(\"PC 1\") +\n",
    "ylab(\"PC 2\") +\n",
    "ggtitle(\"RNA-seq\") +\n",
    "rremove(\"legend.title\")\n",
    "\n",
    "pdf(\"CART_CUTRUN_Project/results/paper_figure/patient-related/CMpatient_CMhealthyDonor_PCA_on_RNA-seq_allfeatures.pdf\", width = 7, height = 6)\n",
    "rna_plot\n",
    "dev.off()\n",
    "rna_plot\n",
    "\n",
    "\n",
    "rna_obj = CreateSeuratObject(counts = countMat[selectR, ], project = \"cart\", min.cells = 0, min.features = 10) %>%  \n",
    "NormalizeData(., normalization.method = \"LogNormalize\", scale.factor = 1000000) %>% \n",
    "FindVariableFeatures(., selection.method = \"vst\", nfeatures = 2000) %>%  # length(selectR)\n",
    "ScaleData()\n",
    "\n",
    "rna_obj = RunPCA(rna_obj, features = VariableFeatures(object = rna_obj), npcs = 10)\n",
    "rna_plot = Embeddings(rna_obj, reduction = \"pca\")[, 1:2] %>% data.frame %>% mutate(group = c(rep(\"PT\", ncol(pt_expCount) - 1), rep(\"HD\", ncol(hd_expCount) - 1))) %>% \n",
    "ggplot(aes(x = PC_1, y = PC_2, color = group)) +\n",
    "geom_point() +\n",
    "theme_bw(base_size = 20) +\n",
    "scale_color_viridis(discrete = TRUE, begin = 0.2, end = 0.8, option = \"magma\") +\n",
    "xlab(\"PC 1\") +\n",
    "ylab(\"PC 2\") +\n",
    "ggtitle(\"RNA-seq\") +\n",
    "rremove(\"legend.title\")\n",
    "\n",
    "pdf(\"CART_CUTRUN_Project/results/paper_figure/patient-related/CMpatient_CMhealthyDonor_PCA_on_RNA-seq_2000features.pdf\", width = 7, height = 6)\n",
    "rna_plot\n",
    "dev.off()\n",
    "rna_plot"
   ]
  }
 ],
 "metadata": {
  "kernelspec": {
   "display_name": "R",
   "language": "R",
   "name": "ir"
  },
  "language_info": {
   "codemirror_mode": "r",
   "file_extension": ".r",
   "mimetype": "text/x-r-source",
   "name": "R",
   "pygments_lexer": "r",
   "version": "4.0.2"
  },
  "orig_nbformat": 4
 },
 "nbformat": 4,
 "nbformat_minor": 2
}
