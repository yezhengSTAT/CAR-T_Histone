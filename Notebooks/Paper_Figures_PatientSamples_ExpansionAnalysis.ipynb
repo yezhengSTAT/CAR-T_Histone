{
 "cells": [
  {
   "cell_type": "code",
   "execution_count": 90,
   "metadata": {
    "vscode": {
     "languageId": "r"
    }
   },
   "outputs": [],
   "source": [
    "library(GenomicRanges)\n",
    "library(dplyr)\n",
    "library(data.table)\n",
    "library(ggplot2)\n",
    "library(viridis)\n",
    "library(readxl)\n",
    "library(pheatmap)\n",
    "library(RColorBrewer)\n",
    "library(tidyr)\n",
    "library(gridExtra)\n",
    "library(corrplot)\n",
    "library(tibble)\n",
    "library(ggrepel)\n",
    "library(ggpubr)\n",
    "# library(DESeq2)\n",
    "library(DEFormats)\n",
    "library(BiocParallel)\n",
    "register(MulticoreParam(4))\n",
    "library(chromVAR)\n",
    "## library(motifmatchr) ##not used by far\n",
    "library(GenomicFeatures)\n",
    "library(BSgenome.Hsapiens.UCSC.hg38)\n",
    "library(ChIPseeker)\n",
    "library(TxDb.Hsapiens.UCSC.hg38.knownGene)\n",
    "library(org.Hs.eg.db)\n",
    "library(pheatmap)\n",
    "library(RColorBrewer)\n",
    "library(tidyr)\n",
    "library(gridExtra)\n",
    "library(ggrepel)\n",
    "library(limma)\n",
    "library(ggdendro)\n",
    "library(ggfortify)\n",
    "library(ggpubr)\n",
    "library(magrittr)\n",
    "library(Seurat)"
   ]
  },
  {
   "cell_type": "code",
   "execution_count": null,
   "metadata": {
    "vscode": {
     "languageId": "r"
    }
   },
   "outputs": [],
   "source": [
    "## Read in Clinical data\n",
    "propscore = fread(\"CART_CUTRUN_Project/meta/stratify_cd8_tcm.csv\", sep = \",\", header = TRUE) %>% data.frame()\n",
    "#fread(\"CART_CUTRUN_Project/meta/TCM_CD8_PFS_propscore_propmatch_update20230330.csv\", sep = \",\", header = TRUE) %>% data.frame()\n",
    "propscore %>% arrange(xnumber)"
   ]
  },
  {
   "cell_type": "code",
   "execution_count": null,
   "metadata": {
    "vscode": {
     "languageId": "r"
    }
   },
   "outputs": [],
   "source": [
    "# metadata_path = \"CART_CUTRUN_Project/meta/\"\n",
    "# clinical_data = fread(paste0(metadata_path, \"NHL_DL2_FluCy_Propscore_linear_model_CandR_only_pfs.csv\"), sep = \",\", header = TRUE) %>% data.frame\n",
    "# head(clinical_data)\n",
    "\n",
    "# clinical_data %>% colnames\n",
    "# clinical_select = c(\"xnumber\", \"cd8_max\", \"cd4_max\", \"log_cd8_max\", \"propscore_cd8_max\", \"propscore\", \"median_cd8_max\", \"preld_ldh\", \"pfscode\",\t\"pfsdaysafterfirstcartcell\", \"pfs_late_code\", \"log_pfs_days\")\n",
    "# clinical_data_select = clinical_data[, clinical_select]\n",
    "# clinical_data_select\n",
    "patientRaw = read_xlsx(\"CART_CUTRUN_Project/report/CART_CUTRUN/analysis/20201028_NHL_CUTandRUN_PatientData.xlsx\")\n",
    "patientRaw %>% dim\n",
    "patientRaw"
   ]
  },
  {
   "cell_type": "code",
   "execution_count": null,
   "metadata": {
    "vscode": {
     "languageId": "r"
    }
   },
   "outputs": [],
   "source": [
    "## Read in CUTRUN data. All the 30 patients data are included\n",
    "patientRaw = read_xlsx(\"CART_CUTRUN_Project/report/CART_CUTRUN/analysis/20201028_NHL_CUTandRUN_PatientData.xlsx\")\n",
    "cm_ind = which(patientRaw$Xnumber %in% propscore$xnumber) #which(patientRaw$`CD8+ T cell isolation` == \"CD8TCM\") #1:nrow(patientRaw) #\n",
    "patientRaw$Xnumber[cm_ind]\n",
    "patient_id_list = patientRaw$Xnumber[cm_ind] %>% tolower\n",
    "patient_id_list\n",
    "\n",
    "## patient data\n",
    "outPath = \"CART_CUTRUN_Project/results/CUTANDRUN/analysis/\"\n",
    "histList = c(\"H3K27me3\", \"H3K4me2\")\n",
    "\n",
    "countMat = readRDS(file = paste0(outPath, \"/RData/TSS_neighbors_chromVar_count_NHLpatient_noChrXYM_countMat.rds\"))\n",
    "normMat = readRDS(file = paste0(outPath, \"/RData/TSS_neighbors_chromVar_count_NHLpatient_noChrXYM_normMat.rds\")) ## RC\n",
    "designInfo = readRDS(file = paste0(outPath, \"/RData/TSS_neighbors_chromVar_count_NHLpatient_noChrXYM_designInfo.rds\"))\n",
    "\n",
    "cr_countMat = countMat\n",
    "cr_countMat$H3K27me3 = countMat$H3K27me3[, cm_ind]\n",
    "cr_countMat$H3K4me2 = countMat$H3K4me2[, cm_ind]\n",
    "colnames(cr_countMat$H3K27me3) = paste0(colnames(cr_countMat$H3K27me3), \"_PT\")\n",
    "colnames(cr_countMat$H3K4me2) = paste0(colnames(cr_countMat$H3K4me2), \"_PT\")\n",
    "\n",
    "cr_normMat = normMat\n",
    "cr_normMat$H3K27me3 = log2(normMat$H3K27me3[, patientRaw$Xnumber[cm_ind]]+1)\n",
    "cr_normMat$H3K4me2 = log2(normMat$H3K4me2[, patientRaw$Xnumber[cm_ind]]+1)\n",
    "colnames(cr_normMat$H3K27me3) = paste0(colnames(cr_normMat$H3K27me3), \"_PT\")\n",
    "colnames(cr_normMat$H3K4me2) = paste0(colnames(cr_normMat$H3K4me2), \"_PT\")\n",
    "\n",
    "\n",
    "pt_designInfo = designInfo %>% dplyr::filter(exps %in% patientRaw$Xnumber[cm_ind])\n",
    "head(cr_normMat$H3K27me3)\n",
    "pt_designInfo %>% arrange(hist, exps)\n",
    "\n"
   ]
  },
  {
   "cell_type": "code",
   "execution_count": null,
   "metadata": {
    "vscode": {
     "languageId": "r"
    }
   },
   "outputs": [],
   "source": [
    "## Read in RNA data.\n",
    "## Patient data infusion product of CM-derived cells \n",
    "inPath = \"CART_CUTRUN_Project/results/RNAseq/process/NHL_RSEM_gencode_v21/\"\n",
    "\n",
    "rna_countMat = c()\n",
    "pt_name_tmp_list = c()\n",
    "for(sample in paste0(\"Sample_\", patient_id_list, \"_IP_CD8-CAR\")){\n",
    "  if(file.exists(paste0(inPath, sample, \"/RSEM.genes.results\"))){\n",
    "    print(sample)\n",
    "    tmp = fread(paste0(inPath, sample, \"/RSEM.genes.results\")) %>% dplyr::select(expected_count)\n",
    "    rna_countMat = cbind(rna_countMat, round(tmp))\n",
    "    pt_name_tmp_list = c(pt_name_tmp_list, sample)\n",
    "  }\n",
    "}\n",
    "rna_countMat = data.frame(rna_countMat)\n",
    "colnames(rna_countMat) = paste0(pt_name_tmp_list, \"_PT\") #paste0(patient_id_list, \"_PT\")\n",
    "\n",
    "geneID = fread(paste0(inPath, sample, \"/RSEM.genes.results\"))$gene_id\n",
    "rna_countMat$gene_name = geneID \n",
    "\n",
    "head(rna_countMat)\n",
    "dim(rna_countMat)\n",
    "\n",
    "\n",
    "rownames(rna_countMat) = rna_countMat$gene_name\n",
    "rna_countMat = rna_countMat %>% dplyr::select(-gene_name)\n",
    "head(rna_countMat)\n",
    "dim(rna_countMat)\n",
    "\n",
    "rna_normMat = log2(rna_countMat + 1)"
   ]
  },
  {
   "cell_type": "code",
   "execution_count": null,
   "metadata": {
    "vscode": {
     "languageId": "r"
    }
   },
   "outputs": [],
   "source": [
    "## PCA tcm: 5000-2000-10000-10000\n",
    "rna_obj_tmp = CreateSeuratObject(counts = rna_countMat, project = \"cart\", min.cells = 0, min.features = 10) %>%  \n",
    "NormalizeData(., normalization.method = \"LogNormalize\", scale.factor = 1000000) \n",
    "\n",
    "rna_obj = rna_obj_tmp %>% \n",
    "FindVariableFeatures(., selection.method = \"vst\", nfeatures = 5000) %>% \n",
    "ScaleData()\n",
    "rna_obj = RunPCA(rna_obj, features = VariableFeatures(object = rna_obj), npcs = 6)\n",
    "\n",
    "k27_obj_tmp = CreateSeuratObject(counts = cr_countMat$H3K27me3, project = \"cart\", min.cells = 0, min.features = 10) %>%  \n",
    "NormalizeData(., normalization.method = \"LogNormalize\", scale.factor = 1000000)\n",
    "\n",
    "k27_obj = k27_obj_tmp %>% \n",
    "FindVariableFeatures(., selection.method = \"vst\", nfeatures = 2000) %>%  #\n",
    "ScaleData()\n",
    "\n",
    "k27_obj = RunPCA(k27_obj, features = VariableFeatures(object = k27_obj), npcs = 6)\n",
    "\n",
    "k4_obj_tmp = CreateSeuratObject(counts = cr_countMat$H3K4me2, project = \"cart\", min.cells = 0, min.features = 10) %>%  \n",
    "NormalizeData(., normalization.method = \"LogNormalize\", scale.factor = 1000000) \n",
    "k4_obj = k4_obj_tmp %>% \n",
    "FindVariableFeatures(., selection.method = \"vst\", nfeatures = 10000) %>%  #round(nrow(k4_m)/10*8)\n",
    "ScaleData()\n",
    "k4_obj = RunPCA(k4_obj, features = VariableFeatures(object = k4_obj), npcs = 6)\n",
    "\n",
    "cr_obj = CreateSeuratObject(counts = rbind(cr_countMat$H3K27me3, cr_countMat$H3K4me2), project = \"cart\", min.cells = 0, min.features = 10) %>%  \n",
    "NormalizeData(., normalization.method = \"LogNormalize\", scale.factor = 1000000) %>% \n",
    "FindVariableFeatures(., selection.method = \"vst\", nfeatures = 10000) %>%  #round((nrow(k27_m) + nrow(k4_m))/10*8)\n",
    "ScaleData()\n",
    "cr_obj = RunPCA(cr_obj, features = VariableFeatures(object = cr_obj), npcs = 6)\n",
    "\n",
    "\n",
    "# cr_obj = CreateSeuratObject(counts = rbind(k27_obj_tmp@assays$RNA@data, k4_obj_tmp@assays$RNA@data), project = \"cart\", min.cells = 0, min.features = 10) %>%  \n",
    "# # NormalizeData(., normalization.method = \"LogNormalize\", scale.factor = 1000000) %>% \n",
    "# FindVariableFeatures(., selection.method = \"vst\", nfeatures = 1000) %>%  #round((nrow(k27_m) + nrow(k4_m))/10*8)\n",
    "# ScaleData()\n",
    "# cr_obj = RunPCA(cr_obj, features = VariableFeatures(object = cr_obj), npcs = 12)\n"
   ]
  },
  {
   "cell_type": "code",
   "execution_count": null,
   "metadata": {
    "vscode": {
     "languageId": "r"
    }
   },
   "outputs": [],
   "source": [
    "# rna_proplabel = left_join(\n",
    "#     data.frame(xnumber = rna_obj %>% colnames %>% gsub(\"Sample_\", \"\", .) %>% gsub(\"_IP_CD8.*\", \"\", .) %>% toupper()), \n",
    "#     propscore[, c(\"xnumber\", \"propmatch_cd8\", \"propmatch_pfs\")]\n",
    "# )\n",
    "\n",
    "# rna_proplabel$propmatch_cd8[is.na(rna_proplabel$propmatch_cd8)] = \"Missing\"\n",
    "# rna_proplabel$propmatch_pfs[is.na(rna_proplabel$propmatch_pfs)] = \"Missing\"\n",
    "\n",
    "# rna_proplabel$propmatch_cd8 = factor(rna_proplabel$propmatch_cd8, levels = c(0, 1, \"Missing\"), labels = c(\"Low_Expander\", \"High_Expander\", \"Missing\"))\n",
    "# rna_proplabel$propmatch_pfs = factor(rna_proplabel$propmatch_pfs, levels = c(0, 1, \"Missing\"), labels = c(\"Early_Progressor\", \"Late_Progressor\", \"Missing\"))\n",
    "# rna_proplabel\n",
    "\n",
    "# k4_proplabel = left_join(\n",
    "#     data.frame(xnumber = k4_obj %>% colnames %>% gsub(\"_.*\", \"\", .) %>% toupper()), \n",
    "#     propscore[, c(\"xnumber\", \"propmatch_cd8\", \"propmatch_pfs\")]\n",
    "# )\n",
    "\n",
    "# k4_proplabel$propmatch_cd8[is.na(k4_proplabel$propmatch_cd8)] = \"Missing\"\n",
    "# k4_proplabel$propmatch_pfs[is.na(k4_proplabel$propmatch_pfs)] = \"Missing\"\n",
    "\n",
    "# k4_proplabel$propmatch_cd8 = factor(k4_proplabel$propmatch_cd8, levels = c(0, 1, \"Missing\"), labels = c(\"Low_Expander\", \"High_Expander\", \"Missing\"))\n",
    "# k4_proplabel$propmatch_pfs = factor(k4_proplabel$propmatch_pfs, levels = c(0, 1, \"Missing\"), labels = c(\"Early_Progressor\", \"Late_Progressor\", \"Missing\"))\n",
    "# k4_proplabel\n",
    "\n",
    "# k27_proplabel = left_join(\n",
    "#     data.frame(xnumber = k27_obj %>% colnames %>% gsub(\"_.*\", \"\", .) %>% toupper()), \n",
    "#     propscore[, c(\"xnumber\", \"propmatch_cd8\", \"propmatch_pfs\")]\n",
    "# )\n",
    "\n",
    "# k27_proplabel$propmatch_cd8[is.na(k27_proplabel$propmatch_cd8)] = \"Missing\"\n",
    "# k27_proplabel$propmatch_pfs[is.na(k27_proplabel$propmatch_pfs)] = \"Missing\"\n",
    "\n",
    "# k27_proplabel$propmatch_cd8 = factor(k27_proplabel$propmatch_cd8, levels = c(0, 1, \"Missing\"), labels = c(\"Low_Expander\", \"High_Expander\", \"Missing\"))\n",
    "# k27_proplabel$propmatch_pfs = factor(k27_proplabel$propmatch_pfs, levels = c(0, 1, \"Missing\"), labels = c(\"Early_Progressor\", \"Late_Progressor\", \"Missing\"))\n",
    "# k27_proplabel\n",
    "\n"
   ]
  },
  {
   "cell_type": "code",
   "execution_count": null,
   "metadata": {
    "vscode": {
     "languageId": "r"
    }
   },
   "outputs": [],
   "source": [
    "rna_proplabel = left_join(\n",
    "    data.frame(xnumber = rna_obj %>% colnames %>% gsub(\"Sample_\", \"\", .) %>% gsub(\"_IP_CD8.*\", \"\", .) %>% toupper()), \n",
    "    propscore[, c(\"xnumber\", \"stratify_cd8_all\")]\n",
    ")\n",
    "rna_proplabel$stratify_cd8_all[is.na(rna_proplabel$stratify_cd8_all)] = \"Missing\"\n",
    "rna_proplabel$stratify_cd8_all = factor(rna_proplabel$stratify_cd8_all, levels = c(\"Low expander\", \"High expander\", \"Missing\"), labels = c(\"Low_Expander\", \"High_Expander\", \"Missing\"))\n",
    "rna_proplabel\n",
    "\n",
    "k4_proplabel = left_join(\n",
    "    data.frame(xnumber = k4_obj %>% colnames %>% gsub(\"_.*\", \"\", .) %>% toupper()), \n",
    "    propscore[, c(\"xnumber\", \"stratify_cd8_all\")]\n",
    ")\n",
    "k4_proplabel$stratify_cd8_all[is.na(k4_proplabel$stratify_cd8_all)] = \"Missing\"\n",
    "k4_proplabel$stratify_cd8_all = factor(k4_proplabel$stratify_cd8_all, levels = c(\"Low expander\", \"High expander\", \"Missing\"), labels = c(\"Low_Expander\", \"High_Expander\", \"Missing\"))\n",
    "k4_proplabel\n",
    "\n",
    "k27_proplabel = left_join(\n",
    "    data.frame(xnumber = k27_obj %>% colnames %>% gsub(\"_.*\", \"\", .) %>% toupper()), \n",
    "    propscore[, c(\"xnumber\", \"stratify_cd8_all\")]\n",
    ")\n",
    "k27_proplabel$stratify_cd8_all[is.na(k27_proplabel$stratify_cd8_all)] = \"Missing\"\n",
    "k27_proplabel$stratify_cd8_all = factor(k27_proplabel$stratify_cd8_all, levels = c(\"Low expander\", \"High expander\", \"Missing\"), labels = c(\"Low_Expander\", \"High_Expander\", \"Missing\"))\n",
    "k27_proplabel\n",
    "\n"
   ]
  },
  {
   "cell_type": "code",
   "execution_count": null,
   "metadata": {
    "vscode": {
     "languageId": "r"
    }
   },
   "outputs": [],
   "source": [
    "p11 = Embeddings(rna_obj, reduction = \"pca\")[, 1:2] %>% data.frame %>% \n",
    "mutate(Expand = rna_proplabel$stratify_cd8_all, Xnumber = rna_proplabel$xnumber) %>% #dplyr::filter(Expand != \"Missing\") %>%\n",
    "ggplot(aes(x = PC_1, y = PC_2, color = Expand, label = Xnumber)) +\n",
    "geom_point(size = 5) +\n",
    "# ggrepel::geom_label_repel(size =3) +\n",
    "theme_bw(base_size = 20) +\n",
    "scale_color_brewer(palette = \"Set1\") +\n",
    "xlab(\"PC 1\") +\n",
    "ylab(\"PC 2\") +\n",
    "ggtitle(\"RNA-seq\") +\n",
    "theme(legend.position = \"top\")\n",
    "\n",
    "p21 = Embeddings(k27_obj, reduction = \"pca\")[, 1:4] %>% data.frame %>% \n",
    "mutate(Expand = k27_proplabel$stratify_cd8_all, Xnumber = k27_proplabel$xnumber) %>% #dplyr::filter(Expand != \"Missing\") %>%\n",
    "ggplot(aes(x = PC_1, y = PC_2, color = Expand, label = Xnumber)) +\n",
    "geom_point(size = 5) +\n",
    "# ggrepel::geom_label_repel(size =3) +\n",
    "theme_bw(base_size = 20) +\n",
    "scale_color_brewer(palette = \"Set1\") +\n",
    "xlab(\"PC 1\") +\n",
    "ylab(\"PC 2\") +\n",
    "ggtitle(\"H3K27me3\") +\n",
    "theme(legend.position = \"top\")\n",
    "\n",
    "p31 = Embeddings(k4_obj, reduction = \"pca\")[, 1:4] %>% data.frame %>% \n",
    "mutate(Expand = k4_proplabel$stratify_cd8_all, Xnumber = k4_proplabel$xnumber) %>% #dplyr::filter(Expand != \"Missing\") %>%\n",
    "ggplot(aes(x = PC_1, y = PC_2, color = Expand, label = Xnumber)) +\n",
    "geom_point(size = 5) +\n",
    "# ggrepel::geom_label_repel(size = 3) +\n",
    "theme_bw(base_size = 20) +\n",
    "scale_color_brewer(palette = \"Set1\") +\n",
    "xlab(\"PC 1\") +\n",
    "ylab(\"PC 2\") +\n",
    "ggtitle(\"H3K4me2\") +\n",
    "theme(legend.position = \"top\")\n",
    "\n",
    "p41 = Embeddings(cr_obj, reduction = \"pca\")[, 1:4] %>% data.frame %>% \n",
    "mutate(Expand = k4_proplabel$stratify_cd8_all, Xnumber = k4_proplabel$xnumber) %>% #dplyr::filter(Expand != \"Missing\") %>%\n",
    "ggplot(aes(x = PC_1, y = PC_2, color = Expand, label = Xnumber)) +\n",
    "geom_point(size = 5) +\n",
    "# ggrepel::geom_label_repel(size = 3) +\n",
    "theme_bw(base_size = 20) +\n",
    "scale_color_brewer(palette = \"Set1\") +\n",
    "xlab(\"PC 1\") +\n",
    "ylab(\"PC 2\") +\n",
    "ggtitle(\"H3K27me3+H3K4me2\") +\n",
    "theme(legend.position = \"top\")\n",
    "\n",
    "\n",
    "options(repr.plot.width=20, repr.plot.height=7)\n",
    "ggarrange(p11, p21, p31, p41, nrow = 1, ncol = 4, common.legend = TRUE)\n",
    "ggsave(\"CART_CUTRUN_Project/results/paper_figure/fig7/stratify_cd8_tcm_rna_k27_k4_cr_low_high_expander.pdf\", width = 20, height = 7)"
   ]
  },
  {
   "cell_type": "code",
   "execution_count": null,
   "metadata": {
    "vscode": {
     "languageId": "r"
    }
   },
   "outputs": [],
   "source": [
    "p11 = Embeddings(rna_obj, reduction = \"pca\")[, 1:2] %>% data.frame %>% mutate(Expand = rna_proplabel$propmatch_cd8) %>% dplyr::filter(Expand != \"Missing\") %>%\n",
    "ggplot(aes(x = PC_1, y = PC_2, color = Expand)) +\n",
    "geom_point(size = 5) +\n",
    "theme_bw(base_size = 20) +\n",
    "scale_color_brewer(palette = \"Set1\") +\n",
    "xlab(\"PC 1\") +\n",
    "ylab(\"PC 2\") +\n",
    "ggtitle(\"RNA-seq\") +\n",
    "theme(legend.position = \"top\")\n",
    "\n",
    "\n",
    "p12 = Embeddings(rna_obj, reduction = \"pca\")[, 1:2] %>% data.frame %>% mutate(Progress = rna_proplabel$propmatch_pfs) %>% dplyr::filter(Progress != \"Missing\") %>%\n",
    "ggplot(aes(x = PC_1, y = PC_2, color = Progress)) +\n",
    "geom_point(size = 5) +\n",
    "theme_bw(base_size = 20) +\n",
    "scale_color_brewer(palette = \"Dark2\") +\n",
    "xlab(\"PC 1\") +\n",
    "ylab(\"PC 2\") +\n",
    "ggtitle(\"RNA-seq\") +\n",
    "theme(legend.position = \"top\")\n",
    "\n",
    "\n",
    "p21 = Embeddings(k27_obj, reduction = \"pca\")[, 1:4] %>% data.frame %>% mutate(Expand = k27_proplabel$propmatch_cd8) %>% dplyr::filter(Expand != \"Missing\") %>%\n",
    "ggplot(aes(x = PC_1, y = PC_2, color = Expand)) +\n",
    "geom_point(size = 5) +\n",
    "theme_bw(base_size = 20) +\n",
    "scale_color_brewer(palette = \"Set1\") +\n",
    "xlab(\"PC 1\") +\n",
    "ylab(\"PC 2\") +\n",
    "ggtitle(\"H3K27me3\") +\n",
    "theme(legend.position = \"top\")\n",
    "\n",
    "\n",
    "\n",
    "p22 = Embeddings(k27_obj, reduction = \"pca\")[, 1:4] %>% data.frame %>% mutate(Progress = k27_proplabel$propmatch_pfs) %>% dplyr::filter(Progress != \"Missing\") %>%\n",
    "ggplot(aes(x = PC_1, y = PC_2, color = Progress)) +\n",
    "geom_point(size = 5) +\n",
    "theme_bw(base_size = 20) +\n",
    "scale_color_brewer(palette = \"Dark2\") +\n",
    "xlab(\"PC 1\") +\n",
    "ylab(\"PC 2\") +\n",
    "ggtitle(\"H3K27me3\") +\n",
    "theme(legend.position = \"top\")\n",
    "\n",
    "\n",
    "p31 = Embeddings(k4_obj, reduction = \"pca\")[, 1:4] %>% data.frame %>% mutate(Expand = k4_proplabel$propmatch_cd8) %>% dplyr::filter(Expand != \"Missing\") %>%\n",
    "ggplot(aes(x = PC_1, y = PC_2, color = Expand)) +\n",
    "geom_point(size = 5) +\n",
    "theme_bw(base_size = 20) +\n",
    "scale_color_brewer(palette = \"Set1\") +\n",
    "xlab(\"PC 1\") +\n",
    "ylab(\"PC 2\") +\n",
    "ggtitle(\"H3K4me2\") +\n",
    "theme(legend.position = \"top\")\n",
    "\n",
    "\n",
    "\n",
    "p32 = Embeddings(k4_obj, reduction = \"pca\")[, 1:4] %>% data.frame %>% mutate(Progress = k4_proplabel$propmatch_pfs) %>% dplyr::filter(Progress != \"Missing\") %>%\n",
    "ggplot(aes(x = PC_1, y = PC_2, color = Progress)) +\n",
    "geom_point(size = 5) +\n",
    "theme_bw(base_size = 20) +\n",
    "scale_color_brewer(palette = \"Dark2\") +\n",
    "xlab(\"PC 1\") +\n",
    "ylab(\"PC 2\") +\n",
    "ggtitle(\"H3K4me2\") +\n",
    "theme(legend.position = \"top\")\n",
    "\n",
    "\n",
    "\n",
    "p41 = Embeddings(cr_obj, reduction = \"pca\")[, 1:4] %>% data.frame %>% mutate(Expand = k4_proplabel$propmatch_cd8) %>% dplyr::filter(Expand != \"Missing\") %>%\n",
    "ggplot(aes(x = PC_1, y = PC_2, color = Expand)) +\n",
    "geom_point(size = 5) +\n",
    "theme_bw(base_size = 20) +\n",
    "scale_color_brewer(palette = \"Set1\") +\n",
    "xlab(\"PC 1\") +\n",
    "ylab(\"PC 2\") +\n",
    "ggtitle(\"H3K27me3+H3K4me2\") +\n",
    "theme(legend.position = \"top\")\n",
    "\n",
    "\n",
    "\n",
    "p42 = Embeddings(cr_obj, reduction = \"pca\")[, 1:4] %>% data.frame %>% mutate(Progress = k4_proplabel$propmatch_pfs) %>% dplyr::filter(Progress != \"Missing\") %>%\n",
    "ggplot(aes(x = PC_1, y = PC_2, color = Progress)) +\n",
    "geom_point(size = 5) +\n",
    "theme_bw(base_size = 20) +\n",
    "scale_color_brewer(palette = \"Dark2\") +\n",
    "xlab(\"PC 1\") +\n",
    "ylab(\"PC 2\") +\n",
    "ggtitle(\"H3K27me3+H3K4me2\") +\n",
    "theme(legend.position = \"top\")\n",
    "\n",
    "\n",
    "options(repr.plot.width=20, repr.plot.height=7)\n",
    "ggarrange(p11, p21, p31, p41, nrow = 1, ncol = 4, common.legend = TRUE)\n",
    "\n",
    "ggarrange(p12, p22, p32, p42, nrow = 1, ncol = 4, common.legend = TRUE)\n"
   ]
  },
  {
   "cell_type": "code",
   "execution_count": 30,
   "metadata": {
    "vscode": {
     "languageId": "r"
    }
   },
   "outputs": [],
   "source": [
    "## Differential detection\n",
    "## propmatch_cd8\n",
    "\n",
    "responseList = c(\"Low_Expander\", \"High_Expander\")\n",
    "hdList <- patient_id_list\n",
    "histList <- c(\"H3K27me3\", \"H3K4me2\")\n",
    "target = k4_proplabel\n",
    "\n",
    "## Experimental design\n",
    "treat <- factor(target$propmatch_cd8)\n",
    "design <- model.matrix(~0 + treat)\n",
    "colnames(design) <- levels(treat)\n",
    "contrast <- makeContrasts(High_Low = High_Expander - Low_Expander, levels = design)"
   ]
  },
  {
   "cell_type": "code",
   "execution_count": null,
   "metadata": {
    "vscode": {
     "languageId": "r"
    }
   },
   "outputs": [],
   "source": [
    "outpath = \"CART_CUTRUN_Project/results/CUTANDRUN/analysis/PatientData/\"\n",
    "histList = c(\"H3K27me3\", \"H3K4me2\")\n",
    "thres_list = list(\"H3K27me3\" = 5, \"H3K4me2\" = 5)\n",
    "results = vector(\"list\", length(histList))\n",
    "results_fullInfo = vector(\"list\", length(histList))\n",
    "voomDDS = vector(\"list\", length(histList))\n",
    "for(hist in histList){\n",
    "  ## Filter and delete low expressed genes\n",
    "    selectR = which(rowSums(cr_countMat[[hist]]) > 50) ## remove low count genes\n",
    "    dataS = cr_countMat[[hist]][selectR, ]\n",
    "    voomDDS[[hist]] = voom(counts = dataS, design = design, normalize.method = \"cyclicloess\", plot = FALSE)\n",
    "    ## option 1 using voomDDS option2 using normDDS as normalized input.\n",
    "    inputDDS = voomDDS[[hist]]\n",
    "    ## corfit$consensus\n",
    "    fit = lmFit(inputDDS, design)\n",
    "    fitContrast = contrasts.fit(fit, contrast)\n",
    "    fitBayes = eBayes(fitContrast, robust = TRUE)\n",
    "    results[[hist]] = list()\n",
    "    results_fullInfo[[hist]] = list()\n",
    "  \n",
    "    ## Results\n",
    "    res = topTable(fit = fitBayes, adjust.method = 'fdr', coef = 1, number = nrow(inputDDS), sort = 'P') %>% data.table\n",
    "    # res = data.table(PeakRegion = rownames(res), res)\n",
    "    res[, Significance := ifelse((adj.P.Val <= 0.1 & sign(logFC) == 1 & abs(logFC) >= 1), 'Up',\n",
    "                            ifelse((adj.P.Val <= 0.1 & sign(logFC) == -1 & abs(logFC) >= 1), 'Down', 'notDE'))]\n",
    "    colnames(cr_normMat[[hist]]) = paste0(k4_proplabel$xnumber, \"_\", k4_proplabel$propmatch_cd8)\n",
    "\n",
    "    results[[hist]] = left_join(res, cr_normMat[[hist]] %>% data.frame %>% dplyr::mutate(ID = rownames(cr_normMat[[hist]])), by = \"ID\") %>% data.frame\n",
    "    results[[hist]]$Average_LowExpander = rowMeans(results[[hist]][, which(stringr::str_detect(colnames(results[[hist]]), \"Low_Expander\"))])\n",
    "    results[[hist]]$Average_HighExpander = rowMeans(results[[hist]][, which(stringr::str_detect(colnames(results[[hist]]), \"High_Expander\"))])\n",
    "    results[[hist]]$Average_LowExpander_Group = 0\n",
    "    results[[hist]]$Average_HighExpander_Group = 0\n",
    "    results[[hist]]$Average_LowExpander_Group[results[[hist]]$Average_LowExpander > thres_list[[hist]]] = 1\n",
    "    results[[hist]]$Average_HighExpander_Group[results[[hist]]$Average_HighExpander > thres_list[[hist]]] = 1\n",
    "    \n",
    "    write.table(results[[hist]], file = paste0(outPath, '/DE_', hist, '_patient_TSSregions_Low_High_Expander_adj0.1_logFC2.csv'), quote = FALSE, row.names = FALSE, sep = \",\")\n",
    "    \n",
    "}\n"
   ]
  },
  {
   "cell_type": "code",
   "execution_count": null,
   "metadata": {
    "vscode": {
     "languageId": "r"
    }
   },
   "outputs": [],
   "source": [
    "## RNA-seq Differential detection\n",
    "## propmatch_cd8\n",
    "\n",
    "responseList = c(\"Low_Expander\", \"High_Expander\")\n",
    "hdList <- patient_id_list\n",
    "target = rna_proplabel\n",
    "\n",
    "## Experimental design\n",
    "treat <- factor(target$propmatch_cd8)\n",
    "design <- model.matrix(~0 + treat)\n",
    "colnames(design) <- levels(treat)\n",
    "contrast <- makeContrasts(High_Low = High_Expander - Low_Expander, levels = design)\n",
    "\n",
    "rna_countMat %>% colnames()\n",
    "rna_proplabel\n",
    "design\n",
    "contrast\n",
    "paste0(rna_proplabel$xnumber, \"_\", rna_proplabel$propmatch_cd8)"
   ]
  },
  {
   "cell_type": "code",
   "execution_count": 84,
   "metadata": {
    "vscode": {
     "languageId": "r"
    }
   },
   "outputs": [],
   "source": [
    "outpath = \"CART_CUTRUN_Project/results/CUTANDRUN/analysis/PatientData/\"\n",
    "## Filter and delete low expressed genes\n",
    "selectR = which(rowSums(rna_countMat) > 50) ## remove low count genes\n",
    "dataS = rna_countMat[selectR, ]\n",
    "voomDDS = voom(counts = dataS, design = design, normalize.method = \"cyclicloess\", plot = FALSE)\n",
    "\n",
    "## option 1 using voomDDS option2 using normDDS as normalized input.\n",
    "inputDDS = voomDDS\n",
    "## corfit$consensus\n",
    "fit = lmFit(inputDDS, design)\n",
    "fitContrast = contrasts.fit(fit, contrast)\n",
    "fitBayes = eBayes(fitContrast, robust = TRUE)\n",
    "\n",
    "## Results\n",
    "res = topTable(fit = fitBayes, adjust.method = 'fdr', coef = 1, number = nrow(inputDDS), sort = 'P')\n",
    "res = data.table(ID = rownames(res), res)\n",
    "res[, Significance := ifelse((adj.P.Val <= 0.1 & sign(logFC) == 1 & abs(logFC) >= 1), 'Up',\n",
    "                        ifelse((adj.P.Val <= 0.1 & sign(logFC) == -1 & abs(logFC) >= 1), 'Down', 'notDE'))]\n",
    "colnames(rna_normMat) = paste0(rna_proplabel$xnumber, \"_\", rna_proplabel$propmatch_cd8)\n",
    "\n",
    "rna_results = left_join(res, rna_normMat %>% data.frame %>% dplyr::mutate(ID = rownames(rna_normMat)), by = \"ID\") %>% data.frame\n",
    "rna_results$Average_LowExpander = rowMeans(rna_results[, which(stringr::str_detect(colnames(rna_results), \"Low_Expander\"))])\n",
    "rna_results$Average_HighExpander = rowMeans(rna_results[, which(stringr::str_detect(colnames(rna_results), \"High_Expander\"))])\n",
    "rna_results$Average_LowExpander_Group = 0\n",
    "rna_results$Average_HighExpander_Group = 0\n",
    "rna_results$Average_LowExpander_Group[rna_results$Average_LowExpander > 5] = 1\n",
    "rna_results$Average_HighExpander_Group[rna_results$Average_HighExpander > 5] = 1\n",
    "\n",
    "write.table(rna_results, file = paste0(outPath, '/DE_RNAseq_patient_TSSregions_Low_High_Expander_adj0.1_logFC2.csv'), quote = FALSE, row.names = FALSE, sep = \",\")\n",
    "\n",
    "\n"
   ]
  },
  {
   "cell_type": "code",
   "execution_count": 97,
   "metadata": {
    "vscode": {
     "languageId": "r"
    }
   },
   "outputs": [],
   "source": [
    "## Differential detection for stratify_cd8_tcm\n",
    "## stratify_cd8_all\n",
    "\n",
    "responseList = c(\"Low_Expander\", \"High_Expander\")\n",
    "hdList <- patient_id_list\n",
    "histList <- c(\"H3K27me3\", \"H3K4me2\")\n",
    "target = k4_proplabel\n",
    "\n",
    "## Experimental design\n",
    "treat <- factor(target$stratify_cd8_all)\n",
    "design <- model.matrix(~0 + treat)\n",
    "colnames(design) <- levels(treat)\n",
    "contrast <- makeContrasts(High_Low = High_Expander - Low_Expander, levels = design)"
   ]
  },
  {
   "cell_type": "code",
   "execution_count": 99,
   "metadata": {
    "vscode": {
     "languageId": "r"
    }
   },
   "outputs": [],
   "source": [
    "cr_normMat[[\"H3K27me3\"]] = k27_obj@assays$RNA@data %>% data.frame\n",
    "cr_normMat[[\"H3K4me2\"]] = k4_obj@assays$RNA@data %>% data.frame\n",
    "rna_normMat = rna_obj@assays$RNA@data %>% data.frame\n",
    "\n",
    "rownames(rna_normMat) = rownames(rna_normMat) %>% sub(\"-\", \"_\", ., fixed = TRUE)"
   ]
  },
  {
   "cell_type": "code",
   "execution_count": 100,
   "metadata": {
    "vscode": {
     "languageId": "r"
    }
   },
   "outputs": [],
   "source": [
    "outpath = \"CART_CUTRUN_Project/results/CUTANDRUN/analysis/PatientData/\"\n",
    "histList = c(\"H3K27me3\", \"H3K4me2\")\n",
    "thres_list = list(\"H3K27me3\" = 3, \"H3K4me2\" = 2.5)\n",
    "results = vector(\"list\", length(histList))\n",
    "results_fullInfo = vector(\"list\", length(histList))\n",
    "voomDDS = vector(\"list\", length(histList))\n",
    "for(hist in histList){\n",
    "  ## Filter and delete low expressed genes\n",
    "    selectR = which(rowSums(cr_countMat[[hist]]) > 5) ## remove low count genes\n",
    "    dataS = cr_countMat[[hist]][selectR, ]\n",
    "    voomDDS[[hist]] = voom(counts = dataS, design = design, normalize.method = \"cyclicloess\", plot = FALSE)\n",
    "    ## option 1 using voomDDS option2 using normDDS as normalized input.\n",
    "    inputDDS = voomDDS[[hist]]\n",
    "    ## corfit$consensus\n",
    "    fit = lmFit(inputDDS, design)\n",
    "    fitContrast = contrasts.fit(fit, contrast)\n",
    "    fitBayes = eBayes(fitContrast, robust = TRUE)\n",
    "    results[[hist]] = list()\n",
    "    results_fullInfo[[hist]] = list()\n",
    "  \n",
    "    ## Results\n",
    "    res = topTable(fit = fitBayes, adjust.method = 'fdr', coef = 1, number = nrow(inputDDS), sort = 'P') %>% data.table\n",
    "    # res = data.table(PeakRegion = rownames(res), res)\n",
    "    res[, Significance := ifelse((adj.P.Val <= 0.1 & sign(logFC) == 1 & abs(logFC) >= 1), 'Up',\n",
    "                            ifelse((adj.P.Val <= 0.1 & sign(logFC) == -1 & abs(logFC) >= 1), 'Down', 'notDE'))]\n",
    "    colnames(cr_normMat[[hist]]) = paste0(k4_proplabel$xnumber, \"_\", k4_proplabel$stratify_cd8_all)\n",
    "\n",
    "    results[[hist]] = left_join(res, cr_normMat[[hist]] %>% data.frame %>% dplyr::mutate(ID = rownames(cr_normMat[[hist]])), by = \"ID\") %>% data.frame\n",
    "    results[[hist]]$Average_LowExpander = rowMeans(results[[hist]][, which(stringr::str_detect(colnames(results[[hist]]), \"Low_Expander\"))])\n",
    "    results[[hist]]$Average_HighExpander = rowMeans(results[[hist]][, which(stringr::str_detect(colnames(results[[hist]]), \"High_Expander\"))])\n",
    "    results[[hist]]$Average_LowExpander_Group = 0\n",
    "    results[[hist]]$Average_HighExpander_Group = 0\n",
    "    results[[hist]]$Average_LowExpander_Group[results[[hist]]$Average_LowExpander > thres_list[[hist]]] = 1\n",
    "    results[[hist]]$Average_HighExpander_Group[results[[hist]]$Average_HighExpander > thres_list[[hist]]] = 1\n",
    "    \n",
    "    write.table(results[[hist]], file = paste0(outPath, '/DE_', hist, '_TCMpatient_TSSregions_Low_High_Expander_adj0.1_logFC2.csv'), quote = FALSE, row.names = FALSE, sep = \",\")\n",
    "    \n",
    "}\n"
   ]
  },
  {
   "cell_type": "code",
   "execution_count": null,
   "metadata": {
    "vscode": {
     "languageId": "r"
    }
   },
   "outputs": [],
   "source": [
    "## RNA-seq Differential detection\n",
    "## propmatch_cd8\n",
    "\n",
    "responseList = c(\"Low_Expander\", \"High_Expander\")\n",
    "hdList <- patient_id_list\n",
    "target = rna_proplabel\n",
    "\n",
    "## Experimental design\n",
    "treat <- factor(target$stratify_cd8_all)\n",
    "design <- model.matrix(~0 + treat)\n",
    "colnames(design) <- levels(treat)\n",
    "contrast <- makeContrasts(High_Low = High_Expander - Low_Expander, levels = design)\n"
   ]
  },
  {
   "cell_type": "code",
   "execution_count": 103,
   "metadata": {
    "vscode": {
     "languageId": "r"
    }
   },
   "outputs": [],
   "source": [
    "outpath = \"CART_CUTRUN_Project/results/CUTANDRUN/analysis/PatientData/\"\n",
    "## Filter and delete low expressed genes\n",
    "selectR = which(rowSums(rna_countMat) > 5) ## remove low count genes\n",
    "dataS = rna_countMat[selectR, ]\n",
    "voomDDS = voom(counts = dataS, design = design, normalize.method = \"cyclicloess\", plot = FALSE)\n",
    "\n",
    "## option 1 using voomDDS option2 using normDDS as normalized input.\n",
    "inputDDS = voomDDS\n",
    "## corfit$consensus\n",
    "fit = lmFit(inputDDS, design)\n",
    "fitContrast = contrasts.fit(fit, contrast)\n",
    "fitBayes = eBayes(fitContrast, robust = TRUE)\n",
    "\n",
    "## Results\n",
    "res = topTable(fit = fitBayes, adjust.method = 'fdr', coef = 1, number = nrow(inputDDS), sort = 'P')\n",
    "res = data.table(ID = rownames(res), res)\n",
    "res[, Significance := ifelse((adj.P.Val <= 0.1 & sign(logFC) == 1 & abs(logFC) >= 1), 'Up',\n",
    "                        ifelse((adj.P.Val <= 0.1 & sign(logFC) == -1 & abs(logFC) >= 1), 'Down', 'notDE'))]\n",
    "colnames(rna_normMat) = paste0(rna_proplabel$xnumber, \"_\", rna_proplabel$stratify_cd8_all)\n",
    "\n",
    "rna_results = left_join(res, rna_normMat %>% data.frame %>% dplyr::mutate(ID = rownames(rna_normMat)), by = \"ID\") %>% data.frame\n",
    "rna_results$Average_LowExpander = rowMeans(rna_results[, which(stringr::str_detect(colnames(rna_results), \"Low_Expander\"))])\n",
    "rna_results$Average_HighExpander = rowMeans(rna_results[, which(stringr::str_detect(colnames(rna_results), \"High_Expander\"))])\n",
    "rna_results$Average_LowExpander_Group = 0\n",
    "rna_results$Average_HighExpander_Group = 0\n",
    "rna_results$Average_LowExpander_Group[rna_results$Average_LowExpander > 2] = 1\n",
    "rna_results$Average_HighExpander_Group[rna_results$Average_HighExpander > 2] = 1\n",
    "\n",
    "write.table(rna_results, file = paste0(outPath, '/DE_RNAseq_TCMpatient_TSSregions_Low_High_Expander_adj0.1_logFC2.csv'), quote = FALSE, row.names = FALSE, sep = \",\")\n",
    "\n",
    "\n"
   ]
  },
  {
   "cell_type": "code",
   "execution_count": null,
   "metadata": {
    "vscode": {
     "languageId": "r"
    }
   },
   "outputs": [],
   "source": [
    "RNA_CR_Merged = inner_join(inner_join(tmp1, tmp2, by = \"ID\"), tmp3, by = \"ID\")\n",
    "RNA_CR_Merged[is.na(RNA_CR_Merged)] = 0\n",
    "write.table(RNA_CR_Merged, file = paste0(outPath, '/DE_RNAseq_TCMpatient_TSSregions_Low_High_Expander_RNA_K4_K27_Group.csv'), quote = FALSE, row.names = FALSE, sep = \",\")\n"
   ]
  }
 ],
 "metadata": {
  "kernelspec": {
   "display_name": "R",
   "language": "R",
   "name": "ir"
  },
  "language_info": {
   "codemirror_mode": "r",
   "file_extension": ".r",
   "mimetype": "text/x-r-source",
   "name": "R",
   "pygments_lexer": "r",
   "version": "4.0.2"
  },
  "orig_nbformat": 4
 },
 "nbformat": 4,
 "nbformat_minor": 2
}
