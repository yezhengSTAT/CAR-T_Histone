{
 "cells": [
  {
   "cell_type": "code",
   "execution_count": 1,
   "metadata": {
    "vscode": {
     "languageId": "r"
    }
   },
   "outputs": [],
   "source": [
    "## CUTRUN DE and assign to nearest genes\n",
    "\n",
    "library(pacman)\n",
    "p_load(data.table, dplyr, ggplot2, viridis, magrittr, VennDiagram, ggpubr, limma, edgeR, tidyr, GenomicRanges, RColorBrewer, pheatmap, Seurat, fgsea, GSEABase, limma, TxDb.Hsapiens.UCSC.hg38.knownGene, org.Hs.eg.db)\n",
    "\n",
    "cell_list <- c(\"N\", \"CM\", \"EM\", \"EMRA\")\n",
    "hd_list <- paste0(\"HD\", c(1:3, 5:7))\n",
    "expr_list = c(\"Input\", \"Product\", \"Stim1\", \"Stim2\", \"Stim3\")\n",
    "cell_comp_list = c(\"N_CM\", \"N_EM\", \"N_EMRA\", \"CM_EM\", \"CM_EMRA\", \"EM_EMRA\")\n",
    "hist_list <- c(\"H3K27me3\", \"H3K4me2\")\n",
    "\n",
    "in_path <- \"CART_CUTRUN_Project/results/RNAseq/process/RSEM/\"\n",
    "out_path <- \"CART_CUTRUN_Project/results/RNAseq/analysis/RSEM/\"\n",
    "fig_path <- \"CART_CUTRUN_Project/results/paper_figure/\"\n",
    "inPath = \"CART_CUTRUN_Project/results/CUTANDRUN/process/\"\n",
    "outPath = \"CART_CUTRUN_Project/results/CUTANDRUN/analysis/\"\n"
   ]
  },
  {
   "cell_type": "code",
   "execution_count": null,
   "metadata": {
    "vscode": {
     "languageId": "r"
    }
   },
   "outputs": [],
   "source": [
    "## PCA for RNA and CUTRUN\n",
    "load(file = paste0(outPath, \"/RData/countMat_designInfo_histList_hd1-7_SEACRcontrolTop10_noChrXYM.RData\")) \n",
    "load(file = paste0(outPath, \"/RData/masterPeak_peakAnno_histList_hd1-7_SEACRcontrolTop10_noChrXYM.RData\"))\n",
    "load(file = \"CART_CUTRUN_Project/results/RNAseq/analysis/RSEM/RData/HD1-3_5-7_normLimma_perExprCondition.RData\") \n",
    "geneID = fread(paste0(\"CART_CUTRUN_Project/results/RNAseq/process/RSEM/\", \"RNA_CD8_N_Input_HD1.genes.results\"))$gene_id\n",
    "data = data.frame(data)\n",
    "select_exp = \"Input\"\n",
    "\n",
    "rna_m = data[, colnames(data) %>% stringr::str_detect(select_exp)]\n",
    "k27_m = countMat[[\"H3K27me3\"]][, colnames(countMat[[\"H3K27me3\"]]) %>% stringr::str_detect(select_exp)]\n",
    "k4_m = countMat[[\"H3K4me2\"]][, colnames(countMat[[\"H3K4me2\"]]) %>% stringr::str_detect(select_exp)]\n",
    "\n",
    "rownames(rna_m) = geneID\n",
    "rownames(k27_m) = mPeak[[\"H3K27me3\"]] %>% data.frame %>% mutate(region = paste0(seqnames, \":\", start, \"-\", end)) %$% region\n",
    "rownames(k4_m) = mPeak[[\"H3K4me2\"]] %>% data.frame %>% mutate(region = paste0(seqnames, \":\", start, \"-\", end)) %$% region\n",
    "\n",
    "rna_voom = voomDDS$E[, colnames(voomDDS$E) %>% stringr::str_detect(select_exp)]\n",
    "load(file = paste0(outPath, \"/RData/results_histList_hd1-7_adjustPeak_noChrXYM.RData\"))\n",
    "k27_voom = voomDDS[[\"H3K27me3\"]]$E[, colnames(voomDDS[[\"H3K27me3\"]]$E) %>% stringr::str_detect(select_exp)]\n",
    "k4_voom = voomDDS[[\"H3K4me2\"]]$E[, colnames(voomDDS[[\"H3K4me2\"]]$E) %>% stringr::str_detect(select_exp)]\n",
    "rownames(rna_voom) = 1:nrow(rna_voom)\n",
    "rownames(k27_voom) = paste0(\"K27me3_\", 1:nrow(k27_voom))\n",
    "rownames(k4_voom) = paste0(\"K4me2_\", 1:nrow(k4_voom))\n"
   ]
  },
  {
   "cell_type": "code",
   "execution_count": null,
   "metadata": {
    "vscode": {
     "languageId": "r"
    }
   },
   "outputs": [],
   "source": [
    "rna_obj = CreateSeuratObject(counts = rna_m, project = \"cart\", min.cells = 0, min.features = 50) %>%  \n",
    "NormalizeData(., normalization.method = \"LogNormalize\", scale.factor = 1000000) %>% \n",
    "FindVariableFeatures(., selection.method = \"vst\", nfeatures = 5000) %>% \n",
    "ScaleData()\n",
    "rna_obj = RunPCA(rna_obj, features = VariableFeatures(object = rna_obj), npcs = 20)\n",
    "\n",
    "k27_obj = CreateSeuratObject(counts = k27_m, project = \"cart\", min.cells = 0, min.features = 50) %>%  \n",
    "NormalizeData(., normalization.method = \"LogNormalize\", scale.factor = 1000000) %>% \n",
    "FindVariableFeatures(., selection.method = \"vst\", nfeatures = round(nrow(k27_m)/10*8)) %>% \n",
    "ScaleData()\n",
    "k27_obj = RunPCA(k27_obj, features = VariableFeatures(object = k27_obj), npcs = 15)\n",
    "\n",
    "k4_obj = CreateSeuratObject(counts = k4_m, project = \"cart\", min.cells = 0, min.features = 50) %>%  \n",
    "NormalizeData(., normalization.method = \"LogNormalize\", scale.factor = 1000000) %>% \n",
    "FindVariableFeatures(., selection.method = \"vst\", nfeatures = round(nrow(k4_m)/10*8)) %>% \n",
    "ScaleData()\n",
    "k4_obj = RunPCA(k4_obj, features = VariableFeatures(object = k4_obj), npcs = 15)\n",
    "\n",
    "cr_obj = CreateSeuratObject(counts = rbind(k27_m, k4_m), project = \"cart\", min.cells = 0, min.features = 50) %>%  \n",
    "NormalizeData(., normalization.method = \"LogNormalize\", scale.factor = 1000000) %>% \n",
    "FindVariableFeatures(., selection.method = \"vst\", nfeatures = round((nrow(k27_m) + nrow(k4_m))/10*8)) %>% \n",
    "ScaleData()\n",
    "cr_obj = RunPCA(cr_obj, features = VariableFeatures(object = cr_obj), npcs = 15)\n"
   ]
  },
  {
   "cell_type": "code",
   "execution_count": null,
   "metadata": {
    "vscode": {
     "languageId": "r"
    }
   },
   "outputs": [],
   "source": [
    "# DimPlot(rna_obj, reduction = \"pca\")\n",
    "ct_list = c(\"N\", \"CM\", \"EM\", \"EMRA\")\n",
    "p1 = Embeddings(rna_obj, reduction = \"pca\")[, 1:2] %>% data.frame %>% mutate(celltype = factor(rep(ct_list, 6), levels = ct_list)) %>% \n",
    "ggplot(aes(x = PC_1, y = PC_2, color = celltype)) +\n",
    "geom_point() +\n",
    "theme_bw(base_size = 20) +\n",
    "scale_color_viridis(discrete = TRUE) +\n",
    "xlab(\"PC 1\") +\n",
    "ylab(\"PC 2\") +\n",
    "ggtitle(\"RNA-seq\") +\n",
    "rremove(\"legend.title\")\n",
    "\n",
    "p2 = Embeddings(k27_obj, reduction = \"pca\")[, 1:2] %>% data.frame %>% mutate(celltype = factor(rep(ct_list, 4), levels = ct_list)) %>% \n",
    "ggplot(aes(x = PC_1, y = PC_2, color = celltype)) +\n",
    "geom_point() +\n",
    "theme_bw(base_size = 20) +\n",
    "scale_color_viridis(discrete = TRUE) +\n",
    "xlab(\"PC 1\") +\n",
    "ylab(\"PC 2\") +\n",
    "ggtitle(\"H3K27me3\") +\n",
    "rremove(\"legend.title\")\n",
    "\n",
    "p3 = Embeddings(k4_obj, reduction = \"pca\")[, 1:2] %>% data.frame %>% mutate(celltype = factor(rep(ct_list, 4), levels = ct_list)) %>% \n",
    "ggplot(aes(x = PC_1, y = PC_2, color = celltype)) +\n",
    "geom_point() +\n",
    "theme_bw(base_size = 20) +\n",
    "scale_color_viridis(discrete = TRUE) +\n",
    "xlab(\"PC 1\") +\n",
    "ylab(\"PC 2\") +\n",
    "ggtitle(\"H3K4me2\") +\n",
    "rremove(\"legend.title\")\n",
    "\n",
    "p4 = Embeddings(cr_obj, reduction = \"pca\")[, 1:2] %>% data.frame %>% mutate(celltype = factor(rep(ct_list, 4), levels = ct_list)) %>% \n",
    "ggplot(aes(x = PC_1, y = PC_2, color = celltype)) +\n",
    "geom_point() +\n",
    "theme_bw(base_size = 20) +\n",
    "scale_color_viridis(discrete = TRUE) +\n",
    "xlab(\"PC 1\") +\n",
    "ylab(\"PC 2\") +\n",
    "ggtitle(\"H3K27me3 + H3K4me2\") +\n",
    "rremove(\"legend.title\")\n",
    "\n",
    "ggarrange(p1, p2, p3, p4, nrow = 2, ncol = 2, common.legend = TRUE)\n",
    "ggsave(filename = \"CART_CUTRUN_Project/results/paper_figure/fig4/PCA_seurat_procedure.pdf\", width = 10, height = 10)"
   ]
  },
  {
   "cell_type": "code",
   "execution_count": null,
   "metadata": {
    "vscode": {
     "languageId": "r"
    }
   },
   "outputs": [],
   "source": [
    "## PCA on raw count all features\n",
    "\n",
    "rna_obj = CreateSeuratObject(counts = rna_m, project = \"cart\", min.cells = 0, min.features = 50) %>%  \n",
    "NormalizeData(., normalization.method = \"LogNormalize\", scale.factor = 1000000) %>% \n",
    "FindVariableFeatures(., selection.method = \"vst\", nfeatures = nrow(rna_obj)) %>% \n",
    "ScaleData()\n",
    "rna_obj = RunPCA(rna_obj, features = VariableFeatures(object = rna_obj), npcs = 20) %>% RunUMAP(dims = 1:20, n.neighbors = 20)\n",
    "\n",
    "k27_obj = CreateSeuratObject(counts = k27_m, project = \"cart\", min.cells = 0, min.features = 50) %>%  \n",
    "NormalizeData(., normalization.method = \"LogNormalize\", scale.factor = 1000000) %>% \n",
    "FindVariableFeatures(., selection.method = \"vst\", nfeatures = nrow(k27_obj)) %>% \n",
    "ScaleData()\n",
    "k27_obj = RunPCA(k27_obj, features = VariableFeatures(object = k27_obj), npcs = 15) %>% RunUMAP(dims = 1:15, n.neighbors = 15)\n",
    "\n",
    "k4_obj = CreateSeuratObject(counts = k4_m, project = \"cart\", min.cells = 0, min.features = 50) %>%  \n",
    "NormalizeData(., normalization.method = \"LogNormalize\", scale.factor = 1000000) %>% \n",
    "FindVariableFeatures(., selection.method = \"vst\", nfeatures = nrow(k4_obj)) %>% \n",
    "ScaleData()\n",
    "k4_obj = RunPCA(k4_obj, features = VariableFeatures(object = k4_obj), npcs = 15) %>% RunUMAP(dims = 1:15, n.neighbors = 15)\n",
    "\n",
    "cr_obj = CreateSeuratObject(counts = rbind(k27_m, k4_m), project = \"cart\", min.cells = 0, min.features = 50) %>%  \n",
    "NormalizeData(., normalization.method = \"LogNormalize\", scale.factor = 1000000) %>% \n",
    "FindVariableFeatures(., selection.method = \"vst\", nfeatures = nrow(k27_obj) + nrow(k4_obj)) %>% \n",
    "ScaleData()\n",
    "cr_obj = RunPCA(cr_obj, features = VariableFeatures(object = cr_obj), npcs = 15) %>% RunUMAP(dims = 1:15, n.neighbors = 15)\n"
   ]
  },
  {
   "cell_type": "code",
   "execution_count": null,
   "metadata": {
    "vscode": {
     "languageId": "r"
    }
   },
   "outputs": [],
   "source": [
    "# # DimPlot(rna_obj, reduction = \"pca\")\n",
    "# ct_list = c(\"N\", \"CM\", \"EM\", \"EMRA\")\n",
    "# p1 = Embeddings(rna_obj, reduction = \"pca\")[, 1:2] %>% data.frame %>% mutate(celltype = factor(rep(ct_list, 6), levels = ct_list)) %>% \n",
    "# ggplot(aes(x = PC_1, y = PC_2, color = celltype)) +\n",
    "# geom_point() +\n",
    "# theme_bw(base_size = 20) +\n",
    "# scale_color_viridis(discrete = TRUE) +\n",
    "# xlab(\"PC 1\") +\n",
    "# ylab(\"PC 2\") +\n",
    "# ggtitle(\"RNA-seq\") +\n",
    "# rremove(\"legend.title\")\n",
    "\n",
    "# p2 = Embeddings(k27_obj, reduction = \"pca\")[, 1:2] %>% data.frame %>% mutate(celltype = factor(rep(ct_list, 4), levels = ct_list)) %>% \n",
    "# ggplot(aes(x = PC_1, y = PC_2, color = celltype)) +\n",
    "# geom_point() +\n",
    "# theme_bw(base_size = 20) +\n",
    "# scale_color_viridis(discrete = TRUE) +\n",
    "# xlab(\"PC 1\") +\n",
    "# ylab(\"PC 2\") +\n",
    "# ggtitle(\"H3K27me3\") +\n",
    "# rremove(\"legend.title\")\n",
    "\n",
    "# p3 = Embeddings(k4_obj, reduction = \"pca\")[, 1:2] %>% data.frame %>% mutate(celltype = factor(rep(ct_list, 4), levels = ct_list)) %>% \n",
    "# ggplot(aes(x = PC_1, y = PC_2, color = celltype)) +\n",
    "# geom_point() +\n",
    "# theme_bw(base_size = 20) +\n",
    "# scale_color_viridis(discrete = TRUE) +\n",
    "# xlab(\"PC 1\") +\n",
    "# ylab(\"PC 2\") +\n",
    "# ggtitle(\"H3K4me2\") +\n",
    "# rremove(\"legend.title\")\n",
    "\n",
    "# p4 = Embeddings(cr_obj, reduction = \"pca\")[, 1:2] %>% data.frame %>% mutate(celltype = factor(rep(ct_list, 4), levels = ct_list)) %>% \n",
    "# ggplot(aes(x = PC_1, y = PC_2, color = celltype)) +\n",
    "# geom_point() +\n",
    "# theme_bw(base_size = 20) +\n",
    "# scale_color_viridis(discrete = TRUE) +\n",
    "# xlab(\"PC 1\") +\n",
    "# ylab(\"PC 2\") +\n",
    "# ggtitle(\"H3K27me3 + H3K4me2\") +\n",
    "# rremove(\"legend.title\")\n",
    "\n",
    "# ggarrange(p1, p2, p3, p4, nrow = 2, ncol = 2, common.legend = TRUE)\n",
    "# ggsave(filename = \"CART_CUTRUN_Project/results/paper_figure/fig4/PCA_seurat_procedure_allFeatures.pdf\", width = 10, height = 10)\n",
    "\n",
    "# DimPlot(rna_obj, reduction = \"pca\")\n",
    "ct_list = c(\"N\", \"CM\", \"EM\", \"EMRA\")\n",
    "p1 = Embeddings(rna_obj, reduction = \"umap\") %>% data.frame %>% mutate(celltype = factor(rep(ct_list, 6), levels = ct_list)) %>% \n",
    "ggplot(aes(x = UMAP_1, y = UMAP_2, color = celltype)) +\n",
    "geom_point() +\n",
    "theme_bw(base_size = 20) +\n",
    "scale_color_viridis(discrete = TRUE) +\n",
    "xlab(\"UMAP 1\") +\n",
    "ylab(\"UMAP 2\") +\n",
    "ggtitle(\"RNA-seq\") +\n",
    "rremove(\"legend.title\")\n",
    "\n",
    "p2 = Embeddings(k27_obj, reduction = \"umap\") %>% data.frame %>% mutate(celltype = factor(rep(ct_list, 4), levels = ct_list)) %>% \n",
    "ggplot(aes(x = UMAP_1, y = UMAP_2, color = celltype)) +\n",
    "geom_point() +\n",
    "theme_bw(base_size = 20) +\n",
    "scale_color_viridis(discrete = TRUE) +\n",
    "xlab(\"UMAP 1\") +\n",
    "ylab(\"UMAP 2\") +\n",
    "ggtitle(\"H3K27me3\") +\n",
    "rremove(\"legend.title\")\n",
    "\n",
    "p3 = Embeddings(k4_obj, reduction = \"umap\") %>% data.frame %>% mutate(celltype = factor(rep(ct_list, 4), levels = ct_list)) %>% \n",
    "ggplot(aes(x = UMAP_1, y = UMAP_2, color = celltype)) +\n",
    "geom_point() +\n",
    "theme_bw(base_size = 20) +\n",
    "scale_color_viridis(discrete = TRUE) +\n",
    "xlab(\"UMAP 1\") +\n",
    "ylab(\"UMAP 2\") +\n",
    "ggtitle(\"H3K4me2\") +\n",
    "rremove(\"legend.title\")\n",
    "\n",
    "p4 = Embeddings(cr_obj, reduction = \"umap\") %>% data.frame %>% mutate(celltype = factor(rep(ct_list, 4), levels = ct_list)) %>% \n",
    "ggplot(aes(x = UMAP_1, y = UMAP_2, color = celltype)) +\n",
    "geom_point() +\n",
    "theme_bw(base_size = 20) +\n",
    "scale_color_viridis(discrete = TRUE) +\n",
    "xlab(\"UMAP 1\") +\n",
    "ylab(\"UMAP 2\") +\n",
    "ggtitle(\"H3K27me3 + H3K4me2\") +\n",
    "rremove(\"legend.title\")\n",
    "\n",
    "ggarrange(p1, p2, p3, p4, nrow = 2, ncol = 2, common.legend = TRUE)\n",
    "ggsave(filename = \"CART_CUTRUN_Project/results/paper_figure/fig4/UMAP_seurat_procedure_allFeatures.pdf\", width = 10, height = 10)"
   ]
  },
  {
   "cell_type": "code",
   "execution_count": null,
   "metadata": {
    "vscode": {
     "languageId": "r"
    }
   },
   "outputs": [],
   "source": [
    "p1 = prcomp(t(data.frame(rna_voom)) %>% data.frame)$x %>% data.frame %>% mutate(label = factor(rep(cellList, each = 6), levels = cellList)) %>% \n",
    "ggplot(aes(x = PC1, y = PC2, color = label)) +\n",
    "geom_point() +\n",
    "theme_bw(base_size = 20) +\n",
    "scale_color_viridis(discrete = TRUE) +\n",
    "xlab(\"PC 1\") +\n",
    "ylab(\"PC 2\") +\n",
    "ggtitle(\"RNA-seq\") +\n",
    "rremove(\"legend.title\")\n",
    "\n",
    "p2 = prcomp(t(data.frame(k27_voom)) %>% data.frame)$x %>% data.frame %>% mutate(label = factor(rep(cellList, each = 4), levels = cellList)) %>% \n",
    "ggplot(aes(x = PC1, y = PC2, color = label)) +\n",
    "geom_point() +\n",
    "theme_bw(base_size = 20) +\n",
    "scale_color_viridis(discrete = TRUE) +\n",
    "xlab(\"PC 1\") +\n",
    "ylab(\"PC 2\") +\n",
    "ggtitle(\"H3K27me3\") +\n",
    "rremove(\"legend.title\")\n",
    "\n",
    "p3 = prcomp(t(data.frame(k4_voom)) %>% data.frame)$x %>% data.frame %>% mutate(label = factor(rep(cellList, each = 4), levels = cellList)) %>% \n",
    "ggplot(aes(x = PC1, y = PC2, color = label)) +\n",
    "geom_point() +\n",
    "theme_bw(base_size = 20) +\n",
    "scale_color_viridis(discrete = TRUE) +\n",
    "xlab(\"PC 1\") +\n",
    "ylab(\"PC 2\") +\n",
    "ggtitle(\"H3K4me2\") +\n",
    "rremove(\"legend.title\")\n",
    "\n",
    "p4 = prcomp(t(data.frame(rbind(k27_voom, k4_voom))) %>% data.frame)$x %>% data.frame %>% mutate(label = factor(rep(cellList, each = 4), levels = cellList)) %>% \n",
    "ggplot(aes(x = PC1, y = PC2, color = label)) +\n",
    "geom_point() +\n",
    "theme_bw(base_size = 20) +\n",
    "scale_color_viridis(discrete = TRUE) +\n",
    "xlab(\"PC 1\") +\n",
    "ylab(\"PC 2\") +\n",
    "ggtitle(\"H3K27me3 + H3K4me2\") +\n",
    "rremove(\"legend.title\")\n",
    "\n",
    "\n",
    "ggarrange(p1, p2, p3, p4, nrow = 2, ncol = 2, common.legend = TRUE)\n",
    "ggsave(filename = \"CART_CUTRUN_Project/results/paper_figure/fig4/PCA_voom_norm_pca.pdf\", width = 10, height = 10)"
   ]
  },
  {
   "cell_type": "code",
   "execution_count": null,
   "metadata": {
    "vscode": {
     "languageId": "r"
    }
   },
   "outputs": [],
   "source": [
    "## Tornado plot\n",
    "samtools sort -o $projPath/alignment/bam/${histName}.sorted.bam $projPath/alignment/bam/${histName}_bowtie2.mapped.bam                                                     \n",
    "samtools index $projPath/alignment/bam/${histName}.sorted.bam                                                                                                              \n",
    "bamCoverage -b $projPath/alignment/bam/${histName}.sorted.bam -o $projPath/alignment/bigwig/${histName}_raw.bw \n",
    "\n",
    "cores=8\n",
    "computeMatrix scale-regions -S $projPath/alignment/bigwig/K27me3_rep1_raw.bw \\\n",
    "                               $projPath/alignment/bigwig/K27me3_rep2_raw.bw \\\n",
    "                               $projPath/alignment/bigwig/K4me3_rep1_raw.bw \\\n",
    "                               $projPath/alignment/bigwig/K4me3_rep2_raw.bw \\\n",
    "                              -R $projPath/data/hg38_gene/hg38_gene.tsv \\\n",
    "                              --beforeRegionStartLength 3000 \\\n",
    "                              --regionBodyLength 5000 \\\n",
    "                              --afterRegionStartLength 3000 \\\n",
    "                              --skipZeros -o $projPath/data/hg38_gene/matrix_gene.mat.gz -p $cores\n",
    "\n",
    "plotHeatmap -m $projPath/data/hg38_gene/matrix_gene.mat.gz -out $projPath/data/hg38_gene/Histone_gene.png --sortUsing sum\n",
    "\n",
    "\n",
    "awk '{split($6, summit, \":\"); split(summit[2], region, \"-\"); print summit[1]\"\\t\"region[1]\"\\t\"region[2]}' $projPath/peakCalling/SEACR/${histName}_${repName}_seacr_control.pe\\\n",
    "aks.stringent.bed >$projPath/peakCalling/SEACR/${histName}_${repName}_seacr_control.peaks.summitRegion.bed\n",
    "\n",
    "computeMatrix reference-point -S $projPath/alignment/bigwig/${histName}_${repName}_raw.bw \\\n",
    "              -R $projPath/peakCalling/SEACR/${histName}_${repName}_seacr_control.peaks.summitRegion.bed \\\n",
    "              --skipZeros -o $projPath/peakCalling/SEACR/${histName}_${repName}_SEACR.mat.gz -p $cores -a 3000 -b 3000 --referencePoint center\n",
    "\n",
    "plotHeatmap -m $projPath/peakCalling/SEACR/${histName}_SEACR.mat.gz -out $projPath/peakCalling/SEACR/${histName}_SEACR_heatmap.png --sortUsing sum --startLabel \"Peak Start\" -\\\n",
    "-endLabel \"Peak End\" --xAxisLabel \"\" --regionsLabel \"Peaks\" --samplesLabel \"${histName} ${repName}\""
   ]
  },
  {
   "cell_type": "code",
   "execution_count": null,
   "metadata": {
    "vscode": {
     "languageId": "r"
    }
   },
   "outputs": [],
   "source": [
    "## Tornado plot\n",
    "## get the gene order based on gene expression for each cell type\n",
    "load(file = \"CART_CUTRUN_Project/results/RNAseq/analysis/RSEM/RData/HD1-3_5-7_normLimma_perExprCondition.RData\") ## data, selectR, dataS, voomDDS, results, \n",
    "geneID = fread(paste0(\"CART_CUTRUN_Project/results/RNAseq/process/RSEM/\", \"RNA_CD8_N_Input_HD1.genes.results\"))$gene_id\n",
    "select_exp = \"Input\"\n",
    "data = data.frame(data)\n",
    "rna_m = data[, colnames(data) %>% stringr::str_detect(select_exp)]\n",
    "rna_lcpm = log(rna_m/colSums(rna_m) * 1000000 + 1)\n",
    "head(rna_m)\n",
    "\n",
    "head(rna_lcpm)\n",
    "\n",
    "ct_list = c(\"N\", \"CM\", \"EM\", \"EMRA\")\n",
    "rna_lcpm_median = list()\n",
    "rna_lcpm_order = list()\n",
    "for(ct in ct_list){\n",
    "    rna_lcpm_median[[ct]] = apply(rna_lcpm[, colnames(rna_lcpm) %>% stringr::str_detect(ct)], 1, median)\n",
    "    rna_lcpm_order[[ct]] = order(rna_lcpm_median[[ct]], decreasing = TRUE)\n",
    "}"
   ]
  },
  {
   "cell_type": "code",
   "execution_count": null,
   "metadata": {
    "vscode": {
     "languageId": "r"
    }
   },
   "outputs": [],
   "source": [
    "## get the ordered gene region\n",
    "library(biomaRt)\n",
    "mart = useDataset(\"hsapiens_gene_ensembl\", useMart(\"ensembl\"))\n",
    "for(ct in ct_list){\n",
    "    print(ct)\n",
    "    ensembl <- rownames(rna_m)[rna_lcpm_order[[ct]]] %>% gsub(\"\\\\..*\", \"\", .)\n",
    "\n",
    "    gene_region <- getBM(filters= \"ensembl_gene_id\", attributes= c(\"ensembl_gene_id\",\"hgnc_symbol\", 'chromosome_name', 'start_position', 'end_position', \"strand\"),\n",
    "                    values = ensembl, mart= mart, uniqueRows = TRUE)\n",
    "    gene_order_region <- left_join(data.frame(ensembl_gene_id = ensembl), gene_region, by = \"ensembl_gene_id\") %>% unique() %>% filter(!is.na(strand)) %>% mutate(chrom = paste0(\"chr\", chromosome_name))\n",
    "    strand_ind <- which(gene_order_region$strand == -1)\n",
    "    gene_order_region$strand = \"+\"\n",
    "    gene_order_region$strand[strand_ind] = \"-\"\n",
    "\n",
    "    gene_order_region %>% dplyr::select(chrom, start_position, end_position, ensembl_gene_id, hgnc_symbol, strand) %>% \n",
    "    write.table(., paste0(\"CART_CUTRUN_Project/results/RNAseq/analysis/TSV/Input_\", ct, \"_ordered_gene_region.tsv\"), quote = FALSE, col.names = F, row.names = F, sep = \"\\t\")\n",
    "\n",
    "}\n"
   ]
  },
  {
   "cell_type": "code",
   "execution_count": null,
   "metadata": {
    "vscode": {
     "languageId": "r"
    }
   },
   "outputs": [],
   "source": [
    "library(readxl)\n",
    "gene_path <- \"CART_CUTRUN_Project/functionalGeneList/\"\n",
    "select_gene <- list(\n",
    "    TF = read_excel(paste0(gene_path, \"2021_11_29_TFs.xlsx\")) %>% mutate(gene_name = `HGNC symbol`),\n",
    "    Tactive = read_excel(paste0(gene_path, \"2021_11_30_TCellActivationFunction.xlsx\")) %>% mutate(gene_name = `Official Symbol`),\n",
    "    CellCycle = read_excel(paste0(gene_path, \"2021_22_30_CellCycleAPoptosis.xlsx\")) %>% mutate(gene_name = `Symbol`),\n",
    "    Metabolism = read_excel(paste0(gene_path, \"2021_22_30_MetabolismGeneList_FinalList.xlsx\")) %>% mutate(gene_name = `Gene`)\n",
    ")\n",
    "head(select_gene[[\"TF\"]])"
   ]
  },
  {
   "cell_type": "code",
   "execution_count": null,
   "metadata": {
    "vscode": {
     "languageId": "r"
    }
   },
   "outputs": [],
   "source": [
    "## subsect by gene types\n",
    "for(ct in ct_list){\n",
    "    print(ct)\n",
    "    for(type in names(select_gene)){\n",
    "        print(type)\n",
    "        gene_order_region %>% filter(hgnc_symbol %in% select_gene[[type]]$gene_name) %>% dplyr::select(chrom, start_position, end_position, ensembl_gene_id, hgnc_symbol, strand) %>% \n",
    "        write.table(., paste0(\"CART_CUTRUN_Project/results/RNAseq/analysis/TSV/Input_\", ct, \"_ordered_gene_region_subset_\", type, \".tsv\"), quote = FALSE, col.names = F, row.names = F, sep = \"\\t\")\n",
    "    }    \n",
    "}\n"
   ]
  }
 ],
 "metadata": {
  "kernelspec": {
   "display_name": "R",
   "language": "R",
   "name": "ir"
  },
  "language_info": {
   "codemirror_mode": "r",
   "file_extension": ".r",
   "mimetype": "text/x-r-source",
   "name": "R",
   "pygments_lexer": "r",
   "version": "4.0.2"
  },
  "orig_nbformat": 4
 },
 "nbformat": 4,
 "nbformat_minor": 2
}
